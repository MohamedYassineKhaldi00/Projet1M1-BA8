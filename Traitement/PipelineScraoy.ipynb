{
 "cells": [
  {
   "cell_type": "code",
   "execution_count": null,
   "metadata": {},
   "outputs": [],
   "source": [
    "from scrapy.exceptions import DropItem\n",
    "\n",
    "class PipelineDeCleaning:\n",
    "    # Expected fields\n",
    "    expected_fields = [\n",
    "        \"titre\", \"url\", \"description\", \"niveau\", \"prerequis\", \n",
    "        \"credits_ects\", \"duree\", \"regime\", \"contenu\", \n",
    "        \"competences\", \"metiers\", \"secteurs\", \"modules\", \"secteur\", \"url\", \"metier\"\n",
    "    ]\n",
    "\n",
    "    def process_item(self, item, spider):  # Change here\n",
    "        # Clean and filter each object\n",
    "        for field in self.expected_fields:\n",
    "            value = item.get(field)\n",
    "\n",
    "            # Clean strings and remove if 2 or fewer characters\n",
    "            if isinstance(value, str):\n",
    "                cleaned_value = value.replace(\"\\n\", \"\").replace(\"\\t\", \"\").strip()\n",
    "                \n",
    "                # Remove leading \": \" if present\n",
    "                if cleaned_value.startswith(\": \"):\n",
    "                    cleaned_value = cleaned_value[2:]\n",
    "\n",
    "                if len(cleaned_value) <= 2:\n",
    "                    item.pop(field)  # Remove field if 2 or fewer characters\n",
    "                else:\n",
    "                    item[field] = cleaned_value\n",
    "\n",
    "            # Clean lists and remove strings with 2 or fewer characters\n",
    "            elif isinstance(value, list):\n",
    "                cleaned_list = [\n",
    "                    v.replace(\"\\n\", \"\").replace(\"\\t\", \"\").replace('\"', \"\").replace(\"  \", \" \").strip()\n",
    "                    for v in value if isinstance(v, str) and len(v.strip()) > 2\n",
    "                ]\n",
    "                \n",
    "                # Further clean each string in the list to remove leading \": \"\n",
    "                cleaned_list = [v[2:] if v.startswith(\": \") else v for v in cleaned_list]\n",
    "                \n",
    "                # Remove the field if the list is empty after filtering\n",
    "                if not cleaned_list:\n",
    "                    item.pop(field)\n",
    "                else:\n",
    "                    item[field] = cleaned_list\n",
    "\n",
    "        # Drop the item if all expected fields are empty\n",
    "        if not any(field in item for field in self.expected_fields):\n",
    "            raise DropItem(f\"Dropping item with no valid fields: {item}\")\n",
    "\n",
    "        return item\n"
   ]
  }
 ],
 "metadata": {
  "language_info": {
   "name": "python"
  }
 },
 "nbformat": 4,
 "nbformat_minor": 2
}
