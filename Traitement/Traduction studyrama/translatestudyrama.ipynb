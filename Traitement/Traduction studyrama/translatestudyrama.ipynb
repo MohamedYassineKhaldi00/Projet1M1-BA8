{
 "cells": [
  {
   "cell_type": "code",
   "execution_count": 6,
   "metadata": {},
   "outputs": [],
   "source": [
    "import json\n",
    "from deep_translator import GoogleTranslator\n",
    "\n",
    "# Load the JSON file\n",
    "with open('studyrama.json', 'r', encoding='utf-8') as file:\n",
    "    data = json.load(file)\n",
    "\n",
    "# Helper function to translate text while preserving the data structure\n",
    "def translate_content(item):\n",
    "    if isinstance(item, str):\n",
    "        return GoogleTranslator(source='auto', target='en').translate(item)\n",
    "    elif isinstance(item, dict):\n",
    "        return {k: translate_content(v) for k, v in item.items()}\n",
    "    elif isinstance(item, list):\n",
    "        return [translate_content(i) for i in item]\n",
    "    return item\n",
    "\n",
    "# Translate the entire data structure\n",
    "translated_data = translate_content(data)\n",
    "\n",
    "# Save the translated data to a new JSON file\n",
    "with open('studyramaEnglish.json', 'w', encoding='utf-8') as file:\n",
    "    json.dump(translated_data, file, ensure_ascii=False, indent=4)"
   ]
  }
 ],
 "metadata": {
  "kernelspec": {
   "display_name": "Python 3",
   "language": "python",
   "name": "python3"
  },
  "language_info": {
   "codemirror_mode": {
    "name": "ipython",
    "version": 3
   },
   "file_extension": ".py",
   "mimetype": "text/x-python",
   "name": "python",
   "nbconvert_exporter": "python",
   "pygments_lexer": "ipython3",
   "version": "3.12.2"
  }
 },
 "nbformat": 4,
 "nbformat_minor": 2
}
