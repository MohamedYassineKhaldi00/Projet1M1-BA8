{
 "cells": [
  {
   "cell_type": "code",
   "execution_count": 1,
   "metadata": {},
   "outputs": [
    {
     "data": {
      "text/html": [
       "<div>\n",
       "<style scoped>\n",
       "    .dataframe tbody tr th:only-of-type {\n",
       "        vertical-align: middle;\n",
       "    }\n",
       "\n",
       "    .dataframe tbody tr th {\n",
       "        vertical-align: top;\n",
       "    }\n",
       "\n",
       "    .dataframe thead th {\n",
       "        text-align: right;\n",
       "    }\n",
       "</style>\n",
       "<table border=\"1\" class=\"dataframe\">\n",
       "  <thead>\n",
       "    <tr style=\"text-align: right;\">\n",
       "      <th></th>\n",
       "      <th>Title</th>\n",
       "      <th>Degree</th>\n",
       "      <th>Prerequisite</th>\n",
       "      <th>Credits</th>\n",
       "      <th>Duration</th>\n",
       "      <th>Format</th>\n",
       "      <th>Skills</th>\n",
       "      <th>Careers</th>\n",
       "      <th>Sectors</th>\n",
       "      <th>Subjects</th>\n",
       "    </tr>\n",
       "  </thead>\n",
       "  <tbody>\n",
       "    <tr>\n",
       "      <th>0</th>\n",
       "      <td>Bachelor Degree in Management - LSG</td>\n",
       "      <td>Bachelor</td>\n",
       "      <td>Baccalaureate</td>\n",
       "      <td>180 ECTS</td>\n",
       "      <td>6 semesters</td>\n",
       "      <td>Basic training / Full time</td>\n",
       "      <td>[Principes de Gestion 1, Comptabilité Financiè...</td>\n",
       "      <td>[Accountant, Management Controller, Treasurer ...</td>\n",
       "      <td>[Accounting firms, Accounting &amp; ﬁnancial depar...</td>\n",
       "      <td>[Semestre 1, Principles of management 1, Finan...</td>\n",
       "    </tr>\n",
       "    <tr>\n",
       "      <th>1</th>\n",
       "      <td>Professional Master in Digital Finance- FIND</td>\n",
       "      <td>Professional Master</td>\n",
       "      <td>Bac + 3 and more</td>\n",
       "      <td>120 ECTS</td>\n",
       "      <td>4 semesters</td>\n",
       "      <td>Training / Full-time scheme</td>\n",
       "      <td>[Analyze and manage financial risks by applyin...</td>\n",
       "      <td>[Financial Analyst, FinTech Project Manager, F...</td>\n",
       "      <td>[Accounting Firms, Accounting &amp; Financial Depa...</td>\n",
       "      <td>[Harmonization Period, Probability and statist...</td>\n",
       "    </tr>\n",
       "    <tr>\n",
       "      <th>2</th>\n",
       "      <td>Professional Master in Actuarial Management &amp; ...</td>\n",
       "      <td>Professional Master</td>\n",
       "      <td>Bac + 3 and more</td>\n",
       "      <td>120 ECTS</td>\n",
       "      <td>4 semesters</td>\n",
       "      <td>Training / Full-time scheme</td>\n",
       "      <td>[Adapt statistical data processing tools, Math...</td>\n",
       "      <td>[Actuary, Data Scientist / Data Analyst, Field...</td>\n",
       "      <td>[Banks, Insurance &amp; Stock Exchanges, Study &amp; S...</td>\n",
       "      <td>[Semester 1, Integration and Probability, Nume...</td>\n",
       "    </tr>\n",
       "    <tr>\n",
       "      <th>3</th>\n",
       "      <td>Bachelor's degree in Business Computing - LBC</td>\n",
       "      <td>Bachelor's degree</td>\n",
       "      <td>Baccalaureate</td>\n",
       "      <td>180 ECTS</td>\n",
       "      <td>6 semesters</td>\n",
       "      <td>Basic training / Full time</td>\n",
       "      <td>[Master date analytics, modeling, reporting an...</td>\n",
       "      <td>[BI Consultant, Business Intelligence Analyst ...</td>\n",
       "      <td>[IT service companies, Software publishers, Ba...</td>\n",
       "      <td>[Semester 1, Algorithms &amp; Data structures 1, O...</td>\n",
       "    </tr>\n",
       "    <tr>\n",
       "      <th>4</th>\n",
       "      <td>Bachelor's degree in Mathematics Applied to Da...</td>\n",
       "      <td>Bachelor's degree</td>\n",
       "      <td>Baccalaureate</td>\n",
       "      <td>180 ECTS</td>\n",
       "      <td>6 semesters and Internship</td>\n",
       "      <td>Initial training / Full time</td>\n",
       "      <td>[Help organizations create value or innovate i...</td>\n",
       "      <td>[Data Analyst, Insurance Actuarial Analyst, Fr...</td>\n",
       "      <td>[IT service companies, Software publishers, Ba...</td>\n",
       "      <td>[Semester 1, Algebra I, Analysis I, Databases,...</td>\n",
       "    </tr>\n",
       "    <tr>\n",
       "      <th>5</th>\n",
       "      <td>Professional Master in Digital Marketing - MKD</td>\n",
       "      <td>Professional Master</td>\n",
       "      <td>Bac+3 and plus</td>\n",
       "      <td>120 ECTS</td>\n",
       "      <td>4 semesters</td>\n",
       "      <td>Initial training / Full time</td>\n",
       "      <td>[Prepare the contents of the communication (Be...</td>\n",
       "      <td>[Web Communications Manager:, Communications D...</td>\n",
       "      <td>[Digital service companies, Consultancy firms,...</td>\n",
       "      <td>[Harmonization period, Probability &amp; Statistic...</td>\n",
       "    </tr>\n",
       "    <tr>\n",
       "      <th>6</th>\n",
       "      <td>Professional Master of Accounting, Control, Au...</td>\n",
       "      <td>Professional Master</td>\n",
       "      <td>Bac+3 and plus</td>\n",
       "      <td>120 ECTS</td>\n",
       "      <td>4 semesters</td>\n",
       "      <td>Initial training / Full time</td>\n",
       "      <td>[Excellent national and international accounti...</td>\n",
       "      <td>[Operational and Senior Managers, Auditor and ...</td>\n",
       "      <td>[Public or private non-financial companies, Fi...</td>\n",
       "      <td>[Semester 1, Presentation standards, Financial...</td>\n",
       "    </tr>\n",
       "    <tr>\n",
       "      <th>7</th>\n",
       "      <td>Professional Master in Business Analytics</td>\n",
       "      <td>Professional Master</td>\n",
       "      <td>Bac+3 and plus</td>\n",
       "      <td>120 ECTS</td>\n",
       "      <td>4 semesters</td>\n",
       "      <td>Initial training / Full time</td>\n",
       "      <td>[Extract, manipulate and mine massive data set...</td>\n",
       "      <td>[Data Analyst, Business Analyst, Data Scientis...</td>\n",
       "      <td>[IT Service companies, Telecommunication opera...</td>\n",
       "      <td>[semester 1, Mathematic fundamentals, Probabil...</td>\n",
       "    </tr>\n",
       "    <tr>\n",
       "      <th>8</th>\n",
       "      <td>Professional Master of Digital Management &amp; In...</td>\n",
       "      <td>Professional master</td>\n",
       "      <td>Bac+3 and plus</td>\n",
       "      <td>120 ECTS</td>\n",
       "      <td>4 semesters</td>\n",
       "      <td>Initial training / Full time</td>\n",
       "      <td>[Anticipate and manage changes linked to digit...</td>\n",
       "      <td>[Digital Transformation Manager:, Chief Digita...</td>\n",
       "      <td>[Digital services companies, Consulting firms,...</td>\n",
       "      <td>[Harmonization period, Probability &amp; statistic...</td>\n",
       "    </tr>\n",
       "  </tbody>\n",
       "</table>\n",
       "</div>"
      ],
      "text/plain": [
       "                                               Title               Degree  \\\n",
       "0                Bachelor Degree in Management - LSG             Bachelor   \n",
       "1       Professional Master in Digital Finance- FIND  Professional Master   \n",
       "2  Professional Master in Actuarial Management & ...  Professional Master   \n",
       "3      Bachelor's degree in Business Computing - LBC    Bachelor's degree   \n",
       "4  Bachelor's degree in Mathematics Applied to Da...    Bachelor's degree   \n",
       "5     Professional Master in Digital Marketing - MKD  Professional Master   \n",
       "6  Professional Master of Accounting, Control, Au...  Professional Master   \n",
       "7          Professional Master in Business Analytics  Professional Master   \n",
       "8  Professional Master of Digital Management & In...  Professional master   \n",
       "\n",
       "       Prerequisite   Credits                    Duration  \\\n",
       "0     Baccalaureate  180 ECTS                 6 semesters   \n",
       "1  Bac + 3 and more  120 ECTS                 4 semesters   \n",
       "2  Bac + 3 and more  120 ECTS                 4 semesters   \n",
       "3     Baccalaureate  180 ECTS                 6 semesters   \n",
       "4     Baccalaureate  180 ECTS  6 semesters and Internship   \n",
       "5    Bac+3 and plus  120 ECTS                 4 semesters   \n",
       "6    Bac+3 and plus  120 ECTS                 4 semesters   \n",
       "7    Bac+3 and plus  120 ECTS                 4 semesters   \n",
       "8    Bac+3 and plus  120 ECTS                 4 semesters   \n",
       "\n",
       "                         Format  \\\n",
       "0    Basic training / Full time   \n",
       "1   Training / Full-time scheme   \n",
       "2   Training / Full-time scheme   \n",
       "3    Basic training / Full time   \n",
       "4  Initial training / Full time   \n",
       "5  Initial training / Full time   \n",
       "6  Initial training / Full time   \n",
       "7  Initial training / Full time   \n",
       "8  Initial training / Full time   \n",
       "\n",
       "                                              Skills  \\\n",
       "0  [Principes de Gestion 1, Comptabilité Financiè...   \n",
       "1  [Analyze and manage financial risks by applyin...   \n",
       "2  [Adapt statistical data processing tools, Math...   \n",
       "3  [Master date analytics, modeling, reporting an...   \n",
       "4  [Help organizations create value or innovate i...   \n",
       "5  [Prepare the contents of the communication (Be...   \n",
       "6  [Excellent national and international accounti...   \n",
       "7  [Extract, manipulate and mine massive data set...   \n",
       "8  [Anticipate and manage changes linked to digit...   \n",
       "\n",
       "                                             Careers  \\\n",
       "0  [Accountant, Management Controller, Treasurer ...   \n",
       "1  [Financial Analyst, FinTech Project Manager, F...   \n",
       "2  [Actuary, Data Scientist / Data Analyst, Field...   \n",
       "3  [BI Consultant, Business Intelligence Analyst ...   \n",
       "4  [Data Analyst, Insurance Actuarial Analyst, Fr...   \n",
       "5  [Web Communications Manager:, Communications D...   \n",
       "6  [Operational and Senior Managers, Auditor and ...   \n",
       "7  [Data Analyst, Business Analyst, Data Scientis...   \n",
       "8  [Digital Transformation Manager:, Chief Digita...   \n",
       "\n",
       "                                             Sectors  \\\n",
       "0  [Accounting firms, Accounting & ﬁnancial depar...   \n",
       "1  [Accounting Firms, Accounting & Financial Depa...   \n",
       "2  [Banks, Insurance & Stock Exchanges, Study & S...   \n",
       "3  [IT service companies, Software publishers, Ba...   \n",
       "4  [IT service companies, Software publishers, Ba...   \n",
       "5  [Digital service companies, Consultancy firms,...   \n",
       "6  [Public or private non-financial companies, Fi...   \n",
       "7  [IT Service companies, Telecommunication opera...   \n",
       "8  [Digital services companies, Consulting firms,...   \n",
       "\n",
       "                                            Subjects  \n",
       "0  [Semestre 1, Principles of management 1, Finan...  \n",
       "1  [Harmonization Period, Probability and statist...  \n",
       "2  [Semester 1, Integration and Probability, Nume...  \n",
       "3  [Semester 1, Algorithms & Data structures 1, O...  \n",
       "4  [Semester 1, Algebra I, Analysis I, Databases,...  \n",
       "5  [Harmonization period, Probability & Statistic...  \n",
       "6  [Semester 1, Presentation standards, Financial...  \n",
       "7  [semester 1, Mathematic fundamentals, Probabil...  \n",
       "8  [Harmonization period, Probability & statistic...  "
      ]
     },
     "execution_count": 1,
     "metadata": {},
     "output_type": "execute_result"
    }
   ],
   "source": [
    "import pandas as pd\n",
    "\n",
    "df = pd.read_json('ESBScraped.json')\n",
    "df"
   ]
  },
  {
   "cell_type": "code",
   "execution_count": 2,
   "metadata": {},
   "outputs": [],
   "source": [
    "df = pd.concat([df, df.loc[[0,3],:]], ignore_index=True)\n"
   ]
  },
  {
   "cell_type": "code",
   "execution_count": 3,
   "metadata": {},
   "outputs": [
    {
     "data": {
      "text/plain": [
       "0                   Bachelor Degree in Management - LSG\n",
       "1          Professional Master in Digital Finance- FIND\n",
       "2     Professional Master in Actuarial Management & ...\n",
       "3         Bachelor's degree in Business Computing - LBC\n",
       "4     Bachelor's degree in Mathematics Applied to Da...\n",
       "5        Professional Master in Digital Marketing - MKD\n",
       "6     Professional Master of Accounting, Control, Au...\n",
       "7             Professional Master in Business Analytics\n",
       "8     Professional Master of Digital Management & In...\n",
       "9                   Bachelor Degree in Management - LSG\n",
       "10        Bachelor's degree in Business Computing - LBC\n",
       "Name: Title, dtype: object"
      ]
     },
     "execution_count": 3,
     "metadata": {},
     "output_type": "execute_result"
    }
   ],
   "source": [
    "df['Title']"
   ]
  },
  {
   "cell_type": "code",
   "execution_count": 4,
   "metadata": {},
   "outputs": [
    {
     "data": {
      "text/html": [
       "<div>\n",
       "<style scoped>\n",
       "    .dataframe tbody tr th:only-of-type {\n",
       "        vertical-align: middle;\n",
       "    }\n",
       "\n",
       "    .dataframe tbody tr th {\n",
       "        vertical-align: top;\n",
       "    }\n",
       "\n",
       "    .dataframe thead th {\n",
       "        text-align: right;\n",
       "    }\n",
       "</style>\n",
       "<table border=\"1\" class=\"dataframe\">\n",
       "  <thead>\n",
       "    <tr style=\"text-align: right;\">\n",
       "      <th></th>\n",
       "      <th>Title</th>\n",
       "      <th>Degree</th>\n",
       "      <th>Prerequisite</th>\n",
       "      <th>Credits</th>\n",
       "      <th>Duration</th>\n",
       "      <th>Format</th>\n",
       "      <th>Skills</th>\n",
       "      <th>Careers</th>\n",
       "      <th>Sectors</th>\n",
       "      <th>Subjects</th>\n",
       "    </tr>\n",
       "  </thead>\n",
       "  <tbody>\n",
       "    <tr>\n",
       "      <th>0</th>\n",
       "      <td>LSG - Accounting Track</td>\n",
       "      <td>Bachelor</td>\n",
       "      <td>Baccalaureate</td>\n",
       "      <td>180 ECTS</td>\n",
       "      <td>6 semesters</td>\n",
       "      <td>Basic training / Full time</td>\n",
       "      <td>[Principes de Gestion 1, Comptabilité Financiè...</td>\n",
       "      <td>[Accountant, Management Controller, Treasurer ...</td>\n",
       "      <td>[Accounting firms, Accounting &amp; ﬁnancial depar...</td>\n",
       "      <td>[Semestre 1, Principles of management 1, Finan...</td>\n",
       "    </tr>\n",
       "    <tr>\n",
       "      <th>1</th>\n",
       "      <td>Digital Finance - FIND</td>\n",
       "      <td>Professional Master</td>\n",
       "      <td>Bac + 3 and more</td>\n",
       "      <td>120 ECTS</td>\n",
       "      <td>4 semesters</td>\n",
       "      <td>Training / Full-time scheme</td>\n",
       "      <td>[Analyze and manage financial risks by applyin...</td>\n",
       "      <td>[Financial Analyst, FinTech Project Manager, F...</td>\n",
       "      <td>[Accounting Firms, Accounting &amp; Financial Depa...</td>\n",
       "      <td>[Harmonization Period, Probability and statist...</td>\n",
       "    </tr>\n",
       "    <tr>\n",
       "      <th>2</th>\n",
       "      <td>GAMMA</td>\n",
       "      <td>Professional Master</td>\n",
       "      <td>Bac + 3 and more</td>\n",
       "      <td>120 ECTS</td>\n",
       "      <td>4 semesters</td>\n",
       "      <td>Training / Full-time scheme</td>\n",
       "      <td>[Adapt statistical data processing tools, Math...</td>\n",
       "      <td>[Actuary, Data Scientist / Data Analyst, Field...</td>\n",
       "      <td>[Banks, Insurance &amp; Stock Exchanges, Study &amp; S...</td>\n",
       "      <td>[Semester 1, Integration and Probability, Nume...</td>\n",
       "    </tr>\n",
       "    <tr>\n",
       "      <th>3</th>\n",
       "      <td>LBC - Business Intelligce</td>\n",
       "      <td>Bachelor's degree</td>\n",
       "      <td>Baccalaureate</td>\n",
       "      <td>180 ECTS</td>\n",
       "      <td>6 semesters</td>\n",
       "      <td>Basic training / Full time</td>\n",
       "      <td>[Master date analytics, modeling, reporting an...</td>\n",
       "      <td>[BI Consultant, Business Intelligence Analyst ...</td>\n",
       "      <td>[IT service companies, Software publishers, Ba...</td>\n",
       "      <td>[Semester 1, Algorithms &amp; Data structures 1, O...</td>\n",
       "    </tr>\n",
       "    <tr>\n",
       "      <th>4</th>\n",
       "      <td>LMAD</td>\n",
       "      <td>Bachelor's degree</td>\n",
       "      <td>Baccalaureate</td>\n",
       "      <td>180 ECTS</td>\n",
       "      <td>6 semesters and Internship</td>\n",
       "      <td>Initial training / Full time</td>\n",
       "      <td>[Help organizations create value or innovate i...</td>\n",
       "      <td>[Data Analyst, Insurance Actuarial Analyst, Fr...</td>\n",
       "      <td>[IT service companies, Software publishers, Ba...</td>\n",
       "      <td>[Semester 1, Algebra I, Analysis I, Databases,...</td>\n",
       "    </tr>\n",
       "    <tr>\n",
       "      <th>5</th>\n",
       "      <td>MKD</td>\n",
       "      <td>Professional Master</td>\n",
       "      <td>Bac+3 and plus</td>\n",
       "      <td>120 ECTS</td>\n",
       "      <td>4 semesters</td>\n",
       "      <td>Initial training / Full time</td>\n",
       "      <td>[Prepare the contents of the communication (Be...</td>\n",
       "      <td>[Web Communications Manager:, Communications D...</td>\n",
       "      <td>[Digital service companies, Consultancy firms,...</td>\n",
       "      <td>[Harmonization period, Probability &amp; Statistic...</td>\n",
       "    </tr>\n",
       "    <tr>\n",
       "      <th>6</th>\n",
       "      <td>CCA</td>\n",
       "      <td>Professional Master</td>\n",
       "      <td>Bac+3 and plus</td>\n",
       "      <td>120 ECTS</td>\n",
       "      <td>4 semesters</td>\n",
       "      <td>Initial training / Full time</td>\n",
       "      <td>[Excellent national and international accounti...</td>\n",
       "      <td>[Operational and Senior Managers, Auditor and ...</td>\n",
       "      <td>[Public or private non-financial companies, Fi...</td>\n",
       "      <td>[Semester 1, Presentation standards, Financial...</td>\n",
       "    </tr>\n",
       "    <tr>\n",
       "      <th>7</th>\n",
       "      <td>BA</td>\n",
       "      <td>Professional Master</td>\n",
       "      <td>Bac+3 and plus</td>\n",
       "      <td>120 ECTS</td>\n",
       "      <td>4 semesters</td>\n",
       "      <td>Initial training / Full time</td>\n",
       "      <td>[Extract, manipulate and mine massive data set...</td>\n",
       "      <td>[Data Analyst, Business Analyst, Data Scientis...</td>\n",
       "      <td>[IT Service companies, Telecommunication opera...</td>\n",
       "      <td>[semester 1, Mathematic fundamentals, Probabil...</td>\n",
       "    </tr>\n",
       "    <tr>\n",
       "      <th>8</th>\n",
       "      <td>MDSI</td>\n",
       "      <td>Professional master</td>\n",
       "      <td>Bac+3 and plus</td>\n",
       "      <td>120 ECTS</td>\n",
       "      <td>4 semesters</td>\n",
       "      <td>Initial training / Full time</td>\n",
       "      <td>[Anticipate and manage changes linked to digit...</td>\n",
       "      <td>[Digital Transformation Manager:, Chief Digita...</td>\n",
       "      <td>[Digital services companies, Consulting firms,...</td>\n",
       "      <td>[Harmonization period, Probability &amp; statistic...</td>\n",
       "    </tr>\n",
       "    <tr>\n",
       "      <th>9</th>\n",
       "      <td>LSG - Management Track</td>\n",
       "      <td>Bachelor</td>\n",
       "      <td>Baccalaureate</td>\n",
       "      <td>180 ECTS</td>\n",
       "      <td>6 semesters</td>\n",
       "      <td>Basic training / Full time</td>\n",
       "      <td>[Principes de Gestion 1, Comptabilité Financiè...</td>\n",
       "      <td>[Accountant, Management Controller, Treasurer ...</td>\n",
       "      <td>[Accounting firms, Accounting &amp; ﬁnancial depar...</td>\n",
       "      <td>[Semestre 1, Principles of management 1, Finan...</td>\n",
       "    </tr>\n",
       "    <tr>\n",
       "      <th>10</th>\n",
       "      <td>LBC - Business Information Systems</td>\n",
       "      <td>Bachelor's degree</td>\n",
       "      <td>Baccalaureate</td>\n",
       "      <td>180 ECTS</td>\n",
       "      <td>6 semesters</td>\n",
       "      <td>Basic training / Full time</td>\n",
       "      <td>[Master date analytics, modeling, reporting an...</td>\n",
       "      <td>[BI Consultant, Business Intelligence Analyst ...</td>\n",
       "      <td>[IT service companies, Software publishers, Ba...</td>\n",
       "      <td>[Semester 1, Algorithms &amp; Data structures 1, O...</td>\n",
       "    </tr>\n",
       "  </tbody>\n",
       "</table>\n",
       "</div>"
      ],
      "text/plain": [
       "                                 Title               Degree      Prerequisite  \\\n",
       "0               LSG - Accounting Track             Bachelor     Baccalaureate   \n",
       "1               Digital Finance - FIND  Professional Master  Bac + 3 and more   \n",
       "2                                GAMMA  Professional Master  Bac + 3 and more   \n",
       "3            LBC - Business Intelligce    Bachelor's degree     Baccalaureate   \n",
       "4                                 LMAD    Bachelor's degree     Baccalaureate   \n",
       "5                                  MKD  Professional Master    Bac+3 and plus   \n",
       "6                                  CCA  Professional Master    Bac+3 and plus   \n",
       "7                                   BA  Professional Master    Bac+3 and plus   \n",
       "8                                 MDSI  Professional master    Bac+3 and plus   \n",
       "9               LSG - Management Track             Bachelor     Baccalaureate   \n",
       "10  LBC - Business Information Systems    Bachelor's degree     Baccalaureate   \n",
       "\n",
       "     Credits                    Duration                        Format  \\\n",
       "0   180 ECTS                 6 semesters    Basic training / Full time   \n",
       "1   120 ECTS                 4 semesters   Training / Full-time scheme   \n",
       "2   120 ECTS                 4 semesters   Training / Full-time scheme   \n",
       "3   180 ECTS                 6 semesters    Basic training / Full time   \n",
       "4   180 ECTS  6 semesters and Internship  Initial training / Full time   \n",
       "5   120 ECTS                 4 semesters  Initial training / Full time   \n",
       "6   120 ECTS                 4 semesters  Initial training / Full time   \n",
       "7   120 ECTS                 4 semesters  Initial training / Full time   \n",
       "8   120 ECTS                 4 semesters  Initial training / Full time   \n",
       "9   180 ECTS                 6 semesters    Basic training / Full time   \n",
       "10  180 ECTS                 6 semesters    Basic training / Full time   \n",
       "\n",
       "                                               Skills  \\\n",
       "0   [Principes de Gestion 1, Comptabilité Financiè...   \n",
       "1   [Analyze and manage financial risks by applyin...   \n",
       "2   [Adapt statistical data processing tools, Math...   \n",
       "3   [Master date analytics, modeling, reporting an...   \n",
       "4   [Help organizations create value or innovate i...   \n",
       "5   [Prepare the contents of the communication (Be...   \n",
       "6   [Excellent national and international accounti...   \n",
       "7   [Extract, manipulate and mine massive data set...   \n",
       "8   [Anticipate and manage changes linked to digit...   \n",
       "9   [Principes de Gestion 1, Comptabilité Financiè...   \n",
       "10  [Master date analytics, modeling, reporting an...   \n",
       "\n",
       "                                              Careers  \\\n",
       "0   [Accountant, Management Controller, Treasurer ...   \n",
       "1   [Financial Analyst, FinTech Project Manager, F...   \n",
       "2   [Actuary, Data Scientist / Data Analyst, Field...   \n",
       "3   [BI Consultant, Business Intelligence Analyst ...   \n",
       "4   [Data Analyst, Insurance Actuarial Analyst, Fr...   \n",
       "5   [Web Communications Manager:, Communications D...   \n",
       "6   [Operational and Senior Managers, Auditor and ...   \n",
       "7   [Data Analyst, Business Analyst, Data Scientis...   \n",
       "8   [Digital Transformation Manager:, Chief Digita...   \n",
       "9   [Accountant, Management Controller, Treasurer ...   \n",
       "10  [BI Consultant, Business Intelligence Analyst ...   \n",
       "\n",
       "                                              Sectors  \\\n",
       "0   [Accounting firms, Accounting & ﬁnancial depar...   \n",
       "1   [Accounting Firms, Accounting & Financial Depa...   \n",
       "2   [Banks, Insurance & Stock Exchanges, Study & S...   \n",
       "3   [IT service companies, Software publishers, Ba...   \n",
       "4   [IT service companies, Software publishers, Ba...   \n",
       "5   [Digital service companies, Consultancy firms,...   \n",
       "6   [Public or private non-financial companies, Fi...   \n",
       "7   [IT Service companies, Telecommunication opera...   \n",
       "8   [Digital services companies, Consulting firms,...   \n",
       "9   [Accounting firms, Accounting & ﬁnancial depar...   \n",
       "10  [IT service companies, Software publishers, Ba...   \n",
       "\n",
       "                                             Subjects  \n",
       "0   [Semestre 1, Principles of management 1, Finan...  \n",
       "1   [Harmonization Period, Probability and statist...  \n",
       "2   [Semester 1, Integration and Probability, Nume...  \n",
       "3   [Semester 1, Algorithms & Data structures 1, O...  \n",
       "4   [Semester 1, Algebra I, Analysis I, Databases,...  \n",
       "5   [Harmonization period, Probability & Statistic...  \n",
       "6   [Semester 1, Presentation standards, Financial...  \n",
       "7   [semester 1, Mathematic fundamentals, Probabil...  \n",
       "8   [Harmonization period, Probability & statistic...  \n",
       "9   [Semestre 1, Principles of management 1, Finan...  \n",
       "10  [Semester 1, Algorithms & Data structures 1, O...  "
      ]
     },
     "execution_count": 4,
     "metadata": {},
     "output_type": "execute_result"
    }
   ],
   "source": [
    "df.loc[:,'Title'] = ['LSG - Accounting Track', 'Digital Finance - FIND', 'GAMMA', 'LBC - Business Intelligce', 'LMAD', 'MKD', 'CCA', 'BA', 'MDSI', 'LSG - Management Track', 'LBC - Business Information Systems']\n",
    "df"
   ]
  },
  {
   "cell_type": "markdown",
   "metadata": {},
   "source": [
    "#Clean skills section for multi-track programs"
   ]
  },
  {
   "cell_type": "code",
   "execution_count": 5,
   "metadata": {},
   "outputs": [],
   "source": [
    "updates = {\n",
    "    (0, 6): slice(10, 15),\n",
    "    (9, 6): slice(23, 33),\n",
    "    (3, 6): slice(0, 3),\n",
    "    (10, 6): slice(3, None)\n",
    "}\n",
    "\n",
    "for (row, col), slc in updates.items():\n",
    "    df.iloc[row, col] = df.iloc[row, col][slc]\n"
   ]
  },
  {
   "cell_type": "markdown",
   "metadata": {},
   "source": [
    "#Seperate multi-tracks Jobs / Careers section"
   ]
  },
  {
   "cell_type": "code",
   "execution_count": 6,
   "metadata": {},
   "outputs": [],
   "source": [
    "#Bachelor LSG\n",
    "df.iloc[0,7] = list(df.iloc[0,7][0:5])\n",
    "df.iloc[9,7] = list(df.iloc[9,7][5:])\n",
    "\n",
    "#Bachelor LBC\n",
    "df.iloc[3,7] =  list(df.iloc[3,7][:5]) \n",
    "df.iloc[10,7] = list(df.iloc[10,7][5:])"
   ]
  },
  {
   "cell_type": "markdown",
   "metadata": {},
   "source": [
    "#Seperate multi-tracks Jobs / Sectors of activity section"
   ]
  },
  {
   "cell_type": "code",
   "execution_count": 7,
   "metadata": {},
   "outputs": [],
   "source": [
    "#Bachelor LSG\n",
    "df.iloc[0,8] = list(df.iloc[0,8][:4])\n",
    "df.iloc[9,8] = list(df.iloc[9,8][4:])\n",
    "#Bachelor LBC\n",
    "df.iloc[3,8] = list(df.iloc[3,8][0:5])\n",
    "df.iloc[10,8] = list(df.iloc[10,8][5:])"
   ]
  },
  {
   "cell_type": "markdown",
   "metadata": {},
   "source": [
    "#Seperate multi-tracks Jobs / Subjects per semester section"
   ]
  },
  {
   "cell_type": "code",
   "execution_count": 8,
   "metadata": {},
   "outputs": [],
   "source": [
    "#Bachelor LSG\n",
    "separateur_matièresLSG = df['Subjects'][0].index('Semestre 1', df['Subjects'][0].index('Semestre 1') + 1)\n",
    "\n",
    "listeLSG1 = df['Subjects'][0][:separateur_matièresLSG]\n",
    "listeLSG2 = df['Subjects'][9][separateur_matièresLSG:]\n",
    "\n",
    "df.iloc[0,9] = listeLSG1\n",
    "df.iloc[9,9] = listeLSG2\n",
    "\n",
    "#Bachelor LBC\n",
    "separateur_matièresLBC = df['Subjects'][3].index('Semester 1', df['Subjects'][3].index('Semester 1') + 1)\n",
    "\n",
    "listeLBC1 = df['Subjects'][3][:separateur_matièresLBC]\n",
    "listeLBC2 = df['Subjects'][10][separateur_matièresLBC:]\n",
    "\n",
    "df.iloc[3,9] = listeLBC1\n",
    "df.iloc[10,9] = listeLBC2\n",
    "\n",
    "#Delete items containing 'semester' number or 'Harmonization period'\n",
    "df['Subjects'] = df['Subjects'].apply(lambda x: [item for item in x if not any(keyword.lower() in item.lower() for keyword in ['semestre', 'semester', 'harmonization'])])\n",
    "\n"
   ]
  },
  {
   "cell_type": "code",
   "execution_count": 9,
   "metadata": {},
   "outputs": [],
   "source": [
    "df['Degree'] = df['Degree'].apply(lambda x: \"Bachelor\" if 'bachelor' in x.lower() else \"Master\" if 'master' in x.lower() else x)"
   ]
  },
  {
   "cell_type": "code",
   "execution_count": 10,
   "metadata": {},
   "outputs": [
    {
     "data": {
      "text/plain": [
       "Title           0\n",
       "Degree          0\n",
       "Prerequisite    0\n",
       "Credits         0\n",
       "Duration        0\n",
       "Format          0\n",
       "Skills          0\n",
       "Careers         0\n",
       "Sectors         0\n",
       "Subjects        0\n",
       "dtype: int64"
      ]
     },
     "execution_count": 10,
     "metadata": {},
     "output_type": "execute_result"
    }
   ],
   "source": [
    "df.isna().sum() "
   ]
  },
  {
   "cell_type": "code",
   "execution_count": 11,
   "metadata": {},
   "outputs": [
    {
     "data": {
      "text/plain": [
       "Index(['Title', 'Degree', 'Prerequisite', 'Credits', 'Duration', 'Format',\n",
       "       'Skills', 'Careers', 'Sectors', 'Subjects'],\n",
       "      dtype='object')"
      ]
     },
     "execution_count": 11,
     "metadata": {},
     "output_type": "execute_result"
    }
   ],
   "source": [
    "df.columns"
   ]
  },
  {
   "cell_type": "code",
   "execution_count": 12,
   "metadata": {},
   "outputs": [
    {
     "data": {
      "text/plain": [
       "['Baccalaureate', 'Bac + 3 and more', 'Bac+3 and plus']"
      ]
     },
     "execution_count": 12,
     "metadata": {},
     "output_type": "execute_result"
    }
   ],
   "source": [
    "df['Prerequisite'].unique().tolist()"
   ]
  },
  {
   "cell_type": "code",
   "execution_count": 13,
   "metadata": {},
   "outputs": [
    {
     "data": {
      "text/plain": [
       "35"
      ]
     },
     "execution_count": 13,
     "metadata": {},
     "output_type": "execute_result"
    }
   ],
   "source": [
    "len(df['Sectors'].explode().unique())\n"
   ]
  },
  {
   "cell_type": "code",
   "execution_count": 14,
   "metadata": {},
   "outputs": [
    {
     "data": {
      "text/plain": [
       "30"
      ]
     },
     "execution_count": 14,
     "metadata": {},
     "output_type": "execute_result"
    }
   ],
   "source": [
    "df['Sectors'] = df['Sectors'].apply(lambda x: [sector.strip().lower().title() for sector in x])\n",
    "len(df['Sectors'].explode().unique())\n"
   ]
  },
  {
   "cell_type": "code",
   "execution_count": 15,
   "metadata": {},
   "outputs": [],
   "source": [
    "import re\n",
    "\n",
    "def clean_numbers(text):\n",
    "    # Remove numbers\n",
    "    text = re.sub(r'\\s+\\d+', '', text)\n",
    "    # Remove numbers and space\n",
    "    text = re.sub(r'\\s+[IVX]+\\b', '', text)\n",
    "    return text\n",
    "\n",
    "df['Subjects'] = df['Subjects'].apply(lambda x: [clean_numbers(subject) for subject in x])"
   ]
  },
  {
   "cell_type": "code",
   "execution_count": 16,
   "metadata": {},
   "outputs": [
    {
     "data": {
      "text/plain": [
       "366"
      ]
     },
     "execution_count": 16,
     "metadata": {},
     "output_type": "execute_result"
    }
   ],
   "source": [
    "len(df['Subjects'].explode().unique())\n"
   ]
  },
  {
   "cell_type": "code",
   "execution_count": 17,
   "metadata": {},
   "outputs": [
    {
     "data": {
      "text/plain": [
       "321"
      ]
     },
     "execution_count": 17,
     "metadata": {},
     "output_type": "execute_result"
    }
   ],
   "source": [
    "df['Subjects'] = df['Subjects'].apply(lambda x: [subject.strip().lower().title() for subject in x])\n",
    "len(df['Subjects'].explode().unique())\n"
   ]
  },
  {
   "cell_type": "code",
   "execution_count": 18,
   "metadata": {},
   "outputs": [],
   "source": [
    "df['Subjects'] = df['Subjects'].apply(lambda x: [subject for subject in x if not any(keyword in subject.lower() for keyword in ['project', 'seminar'])])"
   ]
  },
  {
   "cell_type": "code",
   "execution_count": 19,
   "metadata": {},
   "outputs": [
    {
     "name": "stdout",
     "output_type": "stream",
     "text": [
      "\n",
      "Careers unique values (74):\n",
      "['Accountant' 'Management Controller' 'Treasurer or Financial'\n",
      " 'Accounting & Financial Executive*' 'Manager*' 'Financial Analyst'\n",
      " 'FinTech Project Manager' 'Financial advisor' 'Security & Crypto Advisor'\n",
      " 'Crypto-Asset Trader' 'Financial Innovation Consultant' 'Actuary'\n",
      " 'Data Scientist / Data Analyst' 'Field Investigation Manager'\n",
      " 'Financial Markets Operator' 'Trade'\n",
      " 'Actuarial Research Officer in Insurance'\n",
      " 'Banking Credit and Risk Analyst' 'BI Consultant'\n",
      " 'Business Intelligence Analyst / Consultant'\n",
      " 'Software Expert (ETL, PowerBI, etc.)' 'BI Application Integrator'\n",
      " 'Business Analyst' 'Data Analyst' 'Insurance Actuarial Analyst'\n",
      " 'Front Office Financial Market' 'Credit & Bank Risk Analyst'\n",
      " 'Data Miner / Data Scientist' 'BI Expert' 'Statistician'\n",
      " 'Web Communications Manager:'\n",
      " 'Communications Director, Communications Consultant, Social'\n",
      " 'Media Manager' 'Digital Media Expert:'\n",
      " 'Digital Project Manager, Account Manager, Content Creator'\n",
      " 'Web Designer, Copywriter:'\n",
      " 'Copywriter, Strategic Intelligence, Editorial Manager'\n",
      " 'Marketing Manager:'\n",
      " 'Marketing Consultant, Data Manager, Brand Manager, e-Commerce Manager'\n",
      " 'Operational and Senior Managers' 'Auditor and accounting officer'\n",
      " 'Head of Internal Audit' 'Chartered Accountant' 'Tax advisor'\n",
      " 'Data Scientist' 'Business Engineer' 'Business Development Manager'\n",
      " 'Analytical Consultant' 'Big Data Consultant'\n",
      " 'Digital Transformation Manager:'\n",
      " 'Chief Digital Officer, Digital Strategy Manager'\n",
      " 'Digital Project Manager:'\n",
      " 'Digital Account Executive, IT Project Manager, Product/Service Manager, Digital Asset Manager.'\n",
      " 'Information Systems Consultant:'\n",
      " 'ERP Consultant, IT Consultant, CRM Consultant' 'Account Manager'\n",
      " 'Project Manager' 'Product Manager' 'e-Business Manager' 'Office Manager'\n",
      " 'Administrative & Sales Assistant' 'Human Resources Manager'\n",
      " 'Logistics Manager' 'Sales Outlet Manager'\n",
      " 'Business Organization Consultant' 'Quality Management Consultant'\n",
      " 'Asset Manager' 'Business Developer'\n",
      " 'Developer, Tester, Designer, System Architect' 'Business IS Manager'\n",
      " 'Database Administrator' 'System Administrator' 'IT Consultant'\n",
      " 'Web Designer']\n",
      "\n",
      "Sectors unique values (30):\n",
      "['Accounting Firms'\n",
      " 'Accounting & Financial Departments Of Public Or Private Companies'\n",
      " 'Or Private Companies' 'Banks, Leasing, Insurance'\n",
      " 'Banks, Leasing & Insurance Companies'\n",
      " 'Banks, Insurance & Stock Exchanges' 'Study & Survey Organization'\n",
      " 'Retirement & Provident Fund' 'Commercial Or Industrial Companies'\n",
      " 'It Service Companies' 'Software Publishers' 'Banks & Insurance'\n",
      " 'Commercial Companies' 'Consulting Firms'\n",
      " 'Commercial & Industrial Companies' 'Digital Service Companies'\n",
      " 'Consultancy Firms' 'Communication Agencies' 'Banking & Insurance'\n",
      " 'Commerce & E-Commerce' 'Telecommunications'\n",
      " 'Public Or Private Non-Financial Companies'\n",
      " 'Financial Institutions (Banks, Leasing, Insurance, Etc.)'\n",
      " 'Telecommunication Operators'\n",
      " 'Banks, Insurance Companies & Stock Exchanges'\n",
      " 'Digital Services Companies' 'Btp'\n",
      " 'Information & Communication Technologies' 'Manufacturing Companies'\n",
      " 'Industrial Companies']\n"
     ]
    }
   ],
   "source": [
    "# unique \n",
    "list_columns = ['Careers', 'Sectors']\n",
    "\n",
    "for column in list_columns:\n",
    "    unique_values = df[column].explode().unique()\n",
    "    print(f\"\\n{column} unique values ({len(unique_values)}):\")\n",
    "    print(unique_values)"
   ]
  },
  {
   "cell_type": "code",
   "execution_count": 20,
   "metadata": {},
   "outputs": [],
   "source": [
    "df['Sectors'] = df['Sectors'].apply(lambda sectors: [\n",
    "    'Banks, Insurance, Stocks & Leasing' if 'Bank' in sector else \n",
    "    'IT/Digital services companies' if 'service' in sector.lower() else \n",
    "    'Consulting Firms' if 'consult' in sector.lower() else \n",
    "    'Commercial or Industrial Companies' if 'commercial' in sector.lower() or 'industrial' in sector.lower() else \n",
    "    'Telecommunication' if 'Telecom' in sector.lower() else \n",
    "    sector \n",
    "    for sector in sectors\n",
    "])\n"
   ]
  },
  {
   "cell_type": "code",
   "execution_count": 29,
   "metadata": {},
   "outputs": [
    {
     "data": {
      "text/plain": [
       "Sectors\n",
       "Banks, Insurance, Stocks & Leasing                                   11\n",
       "IT/Digital services companies                                         7\n",
       "Commercial or Industrial Companies                                    6\n",
       "Consulting Firms                                                      4\n",
       "Software Publishers                                                   3\n",
       "Accounting Firms                                                      3\n",
       "Accounting & Financial Departments Of Public Or Private Companies     2\n",
       "Communication Agencies                                                2\n",
       "Commerce & E-Commerce                                                 2\n",
       "Telecommunications                                                    2\n",
       "Retirement & Provident Fund                                           1\n",
       "Study & Survey Organization                                           1\n",
       "Or Private Companies                                                  1\n",
       "Public Or Private Non-Financial Companies                             1\n",
       "Telecommunication Operators                                           1\n",
       "Btp                                                                   1\n",
       "Information & Communication Technologies                              1\n",
       "Manufacturing Companies                                               1\n",
       "Name: count, dtype: int64"
      ]
     },
     "execution_count": 29,
     "metadata": {},
     "output_type": "execute_result"
    }
   ],
   "source": [
    "df['Sectors'].explode().value_counts()"
   ]
  },
  {
   "cell_type": "code",
   "execution_count": 21,
   "metadata": {},
   "outputs": [],
   "source": [
    "df.to_json('L+MFinal.json', orient=\"records\")"
   ]
  },
  {
   "cell_type": "code",
   "execution_count": 22,
   "metadata": {},
   "outputs": [],
   "source": [
    "df.to_csv('L+MFinal.csv')"
   ]
  }
 ],
 "metadata": {
  "kernelspec": {
   "display_name": "Python 3",
   "language": "python",
   "name": "python3"
  },
  "language_info": {
   "codemirror_mode": {
    "name": "ipython",
    "version": 3
   },
   "file_extension": ".py",
   "mimetype": "text/x-python",
   "name": "python",
   "nbconvert_exporter": "python",
   "pygments_lexer": "ipython3",
   "version": "3.12.2"
  }
 },
 "nbformat": 4,
 "nbformat_minor": 2
}
